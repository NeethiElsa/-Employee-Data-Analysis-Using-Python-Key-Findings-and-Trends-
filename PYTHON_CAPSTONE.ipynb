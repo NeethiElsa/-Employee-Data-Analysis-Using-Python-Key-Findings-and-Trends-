{
 "cells": [
  {
   "cell_type": "code",
   "execution_count": 2,
   "id": "5a12a210-f01d-436c-b007-daf530a13e17",
   "metadata": {},
   "outputs": [],
   "source": [
    "import pandas as pd\n",
    "import matplotlib.pyplot as plt\n",
    "import numpy as np\n",
    "import seaborn as sns\n",
    "import random as rd"
   ]
  },
  {
   "cell_type": "code",
   "execution_count": 3,
   "id": "087fb314-df1f-469f-b0dd-1fd008c917cf",
   "metadata": {},
   "outputs": [
    {
     "data": {
      "text/html": [
       "<div>\n",
       "<style scoped>\n",
       "    .dataframe tbody tr th:only-of-type {\n",
       "        vertical-align: middle;\n",
       "    }\n",
       "\n",
       "    .dataframe tbody tr th {\n",
       "        vertical-align: top;\n",
       "    }\n",
       "\n",
       "    .dataframe thead th {\n",
       "        text-align: right;\n",
       "    }\n",
       "</style>\n",
       "<table border=\"1\" class=\"dataframe\">\n",
       "  <thead>\n",
       "    <tr style=\"text-align: right;\">\n",
       "      <th></th>\n",
       "      <th>Name</th>\n",
       "      <th>Team</th>\n",
       "      <th>Number</th>\n",
       "      <th>Position</th>\n",
       "      <th>Age</th>\n",
       "      <th>Height</th>\n",
       "      <th>Weight</th>\n",
       "      <th>College</th>\n",
       "      <th>Salary</th>\n",
       "    </tr>\n",
       "  </thead>\n",
       "  <tbody>\n",
       "    <tr>\n",
       "      <th>0</th>\n",
       "      <td>Avery Bradley</td>\n",
       "      <td>Boston Celtics</td>\n",
       "      <td>0</td>\n",
       "      <td>PG</td>\n",
       "      <td>25</td>\n",
       "      <td>06-Feb</td>\n",
       "      <td>180</td>\n",
       "      <td>Texas</td>\n",
       "      <td>7730337.0</td>\n",
       "    </tr>\n",
       "    <tr>\n",
       "      <th>1</th>\n",
       "      <td>Jae Crowder</td>\n",
       "      <td>Boston Celtics</td>\n",
       "      <td>99</td>\n",
       "      <td>SF</td>\n",
       "      <td>25</td>\n",
       "      <td>06-Jun</td>\n",
       "      <td>235</td>\n",
       "      <td>Marquette</td>\n",
       "      <td>6796117.0</td>\n",
       "    </tr>\n",
       "    <tr>\n",
       "      <th>2</th>\n",
       "      <td>John Holland</td>\n",
       "      <td>Boston Celtics</td>\n",
       "      <td>30</td>\n",
       "      <td>SG</td>\n",
       "      <td>27</td>\n",
       "      <td>06-May</td>\n",
       "      <td>205</td>\n",
       "      <td>Boston University</td>\n",
       "      <td>NaN</td>\n",
       "    </tr>\n",
       "    <tr>\n",
       "      <th>3</th>\n",
       "      <td>R.J. Hunter</td>\n",
       "      <td>Boston Celtics</td>\n",
       "      <td>28</td>\n",
       "      <td>SG</td>\n",
       "      <td>22</td>\n",
       "      <td>06-May</td>\n",
       "      <td>185</td>\n",
       "      <td>Georgia State</td>\n",
       "      <td>1148640.0</td>\n",
       "    </tr>\n",
       "    <tr>\n",
       "      <th>4</th>\n",
       "      <td>Jonas Jerebko</td>\n",
       "      <td>Boston Celtics</td>\n",
       "      <td>8</td>\n",
       "      <td>PF</td>\n",
       "      <td>29</td>\n",
       "      <td>06-Oct</td>\n",
       "      <td>231</td>\n",
       "      <td>NaN</td>\n",
       "      <td>5000000.0</td>\n",
       "    </tr>\n",
       "    <tr>\n",
       "      <th>...</th>\n",
       "      <td>...</td>\n",
       "      <td>...</td>\n",
       "      <td>...</td>\n",
       "      <td>...</td>\n",
       "      <td>...</td>\n",
       "      <td>...</td>\n",
       "      <td>...</td>\n",
       "      <td>...</td>\n",
       "      <td>...</td>\n",
       "    </tr>\n",
       "    <tr>\n",
       "      <th>453</th>\n",
       "      <td>Shelvin Mack</td>\n",
       "      <td>Utah Jazz</td>\n",
       "      <td>8</td>\n",
       "      <td>PG</td>\n",
       "      <td>26</td>\n",
       "      <td>06-Mar</td>\n",
       "      <td>203</td>\n",
       "      <td>Butler</td>\n",
       "      <td>2433333.0</td>\n",
       "    </tr>\n",
       "    <tr>\n",
       "      <th>454</th>\n",
       "      <td>Raul Neto</td>\n",
       "      <td>Utah Jazz</td>\n",
       "      <td>25</td>\n",
       "      <td>PG</td>\n",
       "      <td>24</td>\n",
       "      <td>06-Jan</td>\n",
       "      <td>179</td>\n",
       "      <td>NaN</td>\n",
       "      <td>900000.0</td>\n",
       "    </tr>\n",
       "    <tr>\n",
       "      <th>455</th>\n",
       "      <td>Tibor Pleiss</td>\n",
       "      <td>Utah Jazz</td>\n",
       "      <td>21</td>\n",
       "      <td>C</td>\n",
       "      <td>26</td>\n",
       "      <td>07-Mar</td>\n",
       "      <td>256</td>\n",
       "      <td>NaN</td>\n",
       "      <td>2900000.0</td>\n",
       "    </tr>\n",
       "    <tr>\n",
       "      <th>456</th>\n",
       "      <td>Jeff Withey</td>\n",
       "      <td>Utah Jazz</td>\n",
       "      <td>24</td>\n",
       "      <td>C</td>\n",
       "      <td>26</td>\n",
       "      <td>7-0</td>\n",
       "      <td>231</td>\n",
       "      <td>Kansas</td>\n",
       "      <td>947276.0</td>\n",
       "    </tr>\n",
       "    <tr>\n",
       "      <th>457</th>\n",
       "      <td>Priyanka</td>\n",
       "      <td>Utah Jazz</td>\n",
       "      <td>34</td>\n",
       "      <td>C</td>\n",
       "      <td>25</td>\n",
       "      <td>07-Mar</td>\n",
       "      <td>231</td>\n",
       "      <td>Kansas</td>\n",
       "      <td>947276.0</td>\n",
       "    </tr>\n",
       "  </tbody>\n",
       "</table>\n",
       "<p>458 rows × 9 columns</p>\n",
       "</div>"
      ],
      "text/plain": [
       "              Name            Team  Number Position  Age  Height  Weight  \\\n",
       "0    Avery Bradley  Boston Celtics       0       PG   25  06-Feb     180   \n",
       "1      Jae Crowder  Boston Celtics      99       SF   25  06-Jun     235   \n",
       "2     John Holland  Boston Celtics      30       SG   27  06-May     205   \n",
       "3      R.J. Hunter  Boston Celtics      28       SG   22  06-May     185   \n",
       "4    Jonas Jerebko  Boston Celtics       8       PF   29  06-Oct     231   \n",
       "..             ...             ...     ...      ...  ...     ...     ...   \n",
       "453   Shelvin Mack       Utah Jazz       8       PG   26  06-Mar     203   \n",
       "454      Raul Neto       Utah Jazz      25       PG   24  06-Jan     179   \n",
       "455   Tibor Pleiss       Utah Jazz      21        C   26  07-Mar     256   \n",
       "456    Jeff Withey       Utah Jazz      24        C   26     7-0     231   \n",
       "457       Priyanka       Utah Jazz      34        C   25  07-Mar     231   \n",
       "\n",
       "               College     Salary  \n",
       "0                Texas  7730337.0  \n",
       "1            Marquette  6796117.0  \n",
       "2    Boston University        NaN  \n",
       "3        Georgia State  1148640.0  \n",
       "4                  NaN  5000000.0  \n",
       "..                 ...        ...  \n",
       "453             Butler  2433333.0  \n",
       "454                NaN   900000.0  \n",
       "455                NaN  2900000.0  \n",
       "456             Kansas   947276.0  \n",
       "457             Kansas   947276.0  \n",
       "\n",
       "[458 rows x 9 columns]"
      ]
     },
     "execution_count": 3,
     "metadata": {},
     "output_type": "execute_result"
    }
   ],
   "source": [
    "data= pd.read_csv(r\"C:\\Users\\georg\\OneDrive\\Desktop\\ENTRI\\PYTHON\\myexcel.csv\")\n",
    "data"
   ]
  },
  {
   "cell_type": "code",
   "execution_count": 4,
   "id": "0c9b2421-818c-4af8-b631-1886a21a69cd",
   "metadata": {},
   "outputs": [
    {
     "name": "stdout",
     "output_type": "stream",
     "text": [
      "<class 'pandas.core.frame.DataFrame'>\n",
      "RangeIndex: 458 entries, 0 to 457\n",
      "Data columns (total 9 columns):\n",
      " #   Column    Non-Null Count  Dtype  \n",
      "---  ------    --------------  -----  \n",
      " 0   Name      458 non-null    object \n",
      " 1   Team      458 non-null    object \n",
      " 2   Number    458 non-null    int64  \n",
      " 3   Position  458 non-null    object \n",
      " 4   Age       458 non-null    int64  \n",
      " 5   Height    458 non-null    object \n",
      " 6   Weight    458 non-null    int64  \n",
      " 7   College   374 non-null    object \n",
      " 8   Salary    447 non-null    float64\n",
      "dtypes: float64(1), int64(3), object(5)\n",
      "memory usage: 32.3+ KB\n"
     ]
    }
   ],
   "source": [
    "data.info()"
   ]
  },
  {
   "cell_type": "markdown",
   "id": "51d2721c-a4ea-4f68-8fc7-17a39ee16199",
   "metadata": {},
   "source": [
    "# DATA CLEANING AND PREPROCESSING\n",
    "### Step 1:\n",
    "#### Since the 'Height' column given in the data is wrong data, as per the requirement we will generate random integers between 150 and 180 using randint function from random module.\n"
   ]
  },
  {
   "cell_type": "code",
   "execution_count": 5,
   "id": "27fa600c-a125-486b-b5e4-ce07aa81dbfc",
   "metadata": {},
   "outputs": [],
   "source": [
    "data['Height']=np.random.randint(150,181,size=len(data)) ## helps to generate random integers between 150 and 180 for height column"
   ]
  },
  {
   "cell_type": "code",
   "execution_count": 6,
   "id": "7b890a6f-a029-42b3-9bae-2578cccdc096",
   "metadata": {},
   "outputs": [],
   "source": [
    "data['Height']=data['Height'].astype(int)  ## changes datatype of height to integer from object"
   ]
  },
  {
   "cell_type": "code",
   "execution_count": 7,
   "id": "302f53cc-9a22-4a91-9707-f3b78a95456f",
   "metadata": {},
   "outputs": [
    {
     "data": {
      "text/plain": [
       "Name         0\n",
       "Team         0\n",
       "Number       0\n",
       "Position     0\n",
       "Age          0\n",
       "Height       0\n",
       "Weight       0\n",
       "College     84\n",
       "Salary      11\n",
       "dtype: int64"
      ]
     },
     "execution_count": 7,
     "metadata": {},
     "output_type": "execute_result"
    }
   ],
   "source": [
    "data.isnull().sum() ## to find the total number of null values in each column"
   ]
  },
  {
   "cell_type": "code",
   "execution_count": 8,
   "id": "36dc2b74-8dae-444e-a8f6-a9b8e9a48d66",
   "metadata": {},
   "outputs": [
    {
     "data": {
      "text/plain": [
       "Name         0.000000\n",
       "Team         0.000000\n",
       "Number       0.000000\n",
       "Position     0.000000\n",
       "Age          0.000000\n",
       "Height       0.000000\n",
       "Weight       0.000000\n",
       "College     18.340611\n",
       "Salary       2.401747\n",
       "dtype: float64"
      ]
     },
     "execution_count": 8,
     "metadata": {},
     "output_type": "execute_result"
    }
   ],
   "source": [
    "data.isnull().mean()*100  #percentage of null values"
   ]
  },
  {
   "cell_type": "markdown",
   "id": "3f08fb2b-3567-4c9a-9faa-9be19853be01",
   "metadata": {},
   "source": [
    "### Step2:\n",
    "#### Since we have about 84 null values and 11 null values in College and Salary column respectively,we can replace the NA values in College column with 'Not Provided' and Salary column with median value for analysis purposes."
   ]
  },
  {
   "cell_type": "code",
   "execution_count": 9,
   "id": "071fc540-75c9-4040-925f-c9d70a0cabc1",
   "metadata": {},
   "outputs": [
    {
     "data": {
      "text/plain": [
       "2836186.0"
      ]
     },
     "execution_count": 9,
     "metadata": {},
     "output_type": "execute_result"
    }
   ],
   "source": [
    "salary_median=data['Salary'].median()\n",
    "salary_median"
   ]
  },
  {
   "cell_type": "code",
   "execution_count": 10,
   "id": "bc29f737-858d-47c0-96dd-bba42000ac67",
   "metadata": {},
   "outputs": [],
   "source": [
    "data.fillna({'Salary': salary_median}, inplace=True) #replace NA rows in 'Salary' column with median salary"
   ]
  },
  {
   "cell_type": "code",
   "execution_count": 11,
   "id": "fe195452-d7ef-4744-97b8-9018ee6404a4",
   "metadata": {},
   "outputs": [],
   "source": [
    "data.fillna({'College': 'Not Provided'}, inplace=True) #replace NA rows in 'College' column with 'Not provided'"
   ]
  },
  {
   "cell_type": "code",
   "execution_count": 12,
   "id": "26ca2b16-fa82-43e9-8d1c-4416b751e856",
   "metadata": {},
   "outputs": [
    {
     "data": {
      "text/plain": [
       "Name        0.0\n",
       "Team        0.0\n",
       "Number      0.0\n",
       "Position    0.0\n",
       "Age         0.0\n",
       "Height      0.0\n",
       "Weight      0.0\n",
       "College     0.0\n",
       "Salary      0.0\n",
       "dtype: float64"
      ]
     },
     "execution_count": 12,
     "metadata": {},
     "output_type": "execute_result"
    }
   ],
   "source": [
    "data.isnull().mean() #null values has been become 0."
   ]
  },
  {
   "cell_type": "code",
   "execution_count": 13,
   "id": "728d4cdc-3308-4efe-b975-141ef3cac436",
   "metadata": {},
   "outputs": [
    {
     "data": {
      "text/plain": [
       "Index(['Name', 'Team', 'Number', 'Position', 'Age', 'Height', 'Weight',\n",
       "       'College', 'Salary'],\n",
       "      dtype='object')"
      ]
     },
     "execution_count": 13,
     "metadata": {},
     "output_type": "execute_result"
    }
   ],
   "source": [
    "data.columns"
   ]
  },
  {
   "cell_type": "markdown",
   "id": "58038f37-43b1-4a91-b2d8-484449e0504f",
   "metadata": {},
   "source": [
    "## **ANALYSIS**"
   ]
  },
  {
   "cell_type": "markdown",
   "id": "f1911a4c-db85-4ffc-92d1-19f6230a9e04",
   "metadata": {},
   "source": [
    "#### 1. Determine the distribution of employees across each team and calculate the percentage split relative to the total number of employees. "
   ]
  },
  {
   "cell_type": "code",
   "execution_count": 14,
   "id": "5ef42768-76ed-4369-9bfa-15495463c46d",
   "metadata": {},
   "outputs": [
    {
     "data": {
      "text/plain": [
       "458"
      ]
     },
     "execution_count": 14,
     "metadata": {},
     "output_type": "execute_result"
    }
   ],
   "source": [
    "total_employees=data['Name'].value_counts().sum()\n",
    "total_employees"
   ]
  },
  {
   "cell_type": "code",
   "execution_count": 16,
   "id": "5369db33-b594-4e4c-89de-d2f16d69032e",
   "metadata": {},
   "outputs": [
    {
     "data": {
      "text/plain": [
       "Team\n",
       "New Orleans Pelicans      19\n",
       "Memphis Grizzlies         18\n",
       "Utah Jazz                 16\n",
       "New York Knicks           16\n",
       "Milwaukee Bucks           16\n",
       "Brooklyn Nets             15\n",
       "Portland Trail Blazers    15\n",
       "Oklahoma City Thunder     15\n",
       "Denver Nuggets            15\n",
       "Washington Wizards        15\n",
       "Miami Heat                15\n",
       "Charlotte Hornets         15\n",
       "Atlanta Hawks             15\n",
       "San Antonio Spurs         15\n",
       "Houston Rockets           15\n",
       "Boston Celtics            15\n",
       "Indiana Pacers            15\n",
       "Detroit Pistons           15\n",
       "Cleveland Cavaliers       15\n",
       "Chicago Bulls             15\n",
       "Sacramento Kings          15\n",
       "Phoenix Suns              15\n",
       "Los Angeles Lakers        15\n",
       "Los Angeles Clippers      15\n",
       "Golden State Warriors     15\n",
       "Toronto Raptors           15\n",
       "Philadelphia 76ers        15\n",
       "Dallas Mavericks          15\n",
       "Orlando Magic             14\n",
       "Minnesota Timberwolves    14\n",
       "Name: count, dtype: int64"
      ]
     },
     "execution_count": 16,
     "metadata": {},
     "output_type": "execute_result"
    }
   ],
   "source": [
    "employees_teamwise=data['Team'].value_counts()\n",
    "employees_teamwise"
   ]
  },
  {
   "cell_type": "code",
   "execution_count": 17,
   "id": "3b1a88a8-17e0-4fd9-8e0a-0668fcdfc6bf",
   "metadata": {},
   "outputs": [
    {
     "data": {
      "text/plain": [
       "Team\n",
       "New Orleans Pelicans      4.15\n",
       "Memphis Grizzlies         3.93\n",
       "Utah Jazz                 3.49\n",
       "New York Knicks           3.49\n",
       "Milwaukee Bucks           3.49\n",
       "Detroit Pistons           3.28\n",
       "Dallas Mavericks          3.28\n",
       "Philadelphia 76ers        3.28\n",
       "Toronto Raptors           3.28\n",
       "Golden State Warriors     3.28\n",
       "Los Angeles Clippers      3.28\n",
       "Los Angeles Lakers        3.28\n",
       "Phoenix Suns              3.28\n",
       "Sacramento Kings          3.28\n",
       "Chicago Bulls             3.28\n",
       "Cleveland Cavaliers       3.28\n",
       "Boston Celtics            3.28\n",
       "Indiana Pacers            3.28\n",
       "Houston Rockets           3.28\n",
       "San Antonio Spurs         3.28\n",
       "Atlanta Hawks             3.28\n",
       "Charlotte Hornets         3.28\n",
       "Miami Heat                3.28\n",
       "Washington Wizards        3.28\n",
       "Denver Nuggets            3.28\n",
       "Oklahoma City Thunder     3.28\n",
       "Portland Trail Blazers    3.28\n",
       "Brooklyn Nets             3.28\n",
       "Orlando Magic             3.06\n",
       "Minnesota Timberwolves    3.06\n",
       "Name: count, dtype: float64"
      ]
     },
     "execution_count": 17,
     "metadata": {},
     "output_type": "execute_result"
    }
   ],
   "source": [
    "employees_teamwise_percent=((employees_teamwise/total_employees)*100).round(2).sort_values(ascending=False)\n",
    "employees_teamwise_percent"
   ]
  },
  {
   "cell_type": "code",
   "execution_count": 18,
   "id": "d062c550-d227-4cbb-b7f7-2fc301aeeb59",
   "metadata": {},
   "outputs": [
    {
     "data": {
      "text/plain": [
       "30"
      ]
     },
     "execution_count": 18,
     "metadata": {},
     "output_type": "execute_result"
    }
   ],
   "source": [
    "employees_teamwise.count()"
   ]
  },
  {
   "cell_type": "code",
   "execution_count": 19,
   "id": "22ccc883-d067-425d-b8d3-148f87a447d8",
   "metadata": {},
   "outputs": [
    {
     "data": {
      "text/html": [
       "<div>\n",
       "<style scoped>\n",
       "    .dataframe tbody tr th:only-of-type {\n",
       "        vertical-align: middle;\n",
       "    }\n",
       "\n",
       "    .dataframe tbody tr th {\n",
       "        vertical-align: top;\n",
       "    }\n",
       "\n",
       "    .dataframe thead th {\n",
       "        text-align: right;\n",
       "    }\n",
       "</style>\n",
       "<table border=\"1\" class=\"dataframe\">\n",
       "  <thead>\n",
       "    <tr style=\"text-align: right;\">\n",
       "      <th></th>\n",
       "      <th>Team</th>\n",
       "      <th>count</th>\n",
       "    </tr>\n",
       "  </thead>\n",
       "  <tbody>\n",
       "    <tr>\n",
       "      <th>0</th>\n",
       "      <td>New Orleans Pelicans</td>\n",
       "      <td>4.15</td>\n",
       "    </tr>\n",
       "    <tr>\n",
       "      <th>1</th>\n",
       "      <td>Memphis Grizzlies</td>\n",
       "      <td>3.93</td>\n",
       "    </tr>\n",
       "    <tr>\n",
       "      <th>2</th>\n",
       "      <td>Utah Jazz</td>\n",
       "      <td>3.49</td>\n",
       "    </tr>\n",
       "    <tr>\n",
       "      <th>3</th>\n",
       "      <td>New York Knicks</td>\n",
       "      <td>3.49</td>\n",
       "    </tr>\n",
       "    <tr>\n",
       "      <th>4</th>\n",
       "      <td>Milwaukee Bucks</td>\n",
       "      <td>3.49</td>\n",
       "    </tr>\n",
       "    <tr>\n",
       "      <th>5</th>\n",
       "      <td>Detroit Pistons</td>\n",
       "      <td>3.28</td>\n",
       "    </tr>\n",
       "    <tr>\n",
       "      <th>6</th>\n",
       "      <td>Dallas Mavericks</td>\n",
       "      <td>3.28</td>\n",
       "    </tr>\n",
       "    <tr>\n",
       "      <th>7</th>\n",
       "      <td>Philadelphia 76ers</td>\n",
       "      <td>3.28</td>\n",
       "    </tr>\n",
       "    <tr>\n",
       "      <th>8</th>\n",
       "      <td>Toronto Raptors</td>\n",
       "      <td>3.28</td>\n",
       "    </tr>\n",
       "    <tr>\n",
       "      <th>9</th>\n",
       "      <td>Golden State Warriors</td>\n",
       "      <td>3.28</td>\n",
       "    </tr>\n",
       "    <tr>\n",
       "      <th>10</th>\n",
       "      <td>Los Angeles Clippers</td>\n",
       "      <td>3.28</td>\n",
       "    </tr>\n",
       "    <tr>\n",
       "      <th>11</th>\n",
       "      <td>Los Angeles Lakers</td>\n",
       "      <td>3.28</td>\n",
       "    </tr>\n",
       "    <tr>\n",
       "      <th>12</th>\n",
       "      <td>Phoenix Suns</td>\n",
       "      <td>3.28</td>\n",
       "    </tr>\n",
       "    <tr>\n",
       "      <th>13</th>\n",
       "      <td>Sacramento Kings</td>\n",
       "      <td>3.28</td>\n",
       "    </tr>\n",
       "    <tr>\n",
       "      <th>14</th>\n",
       "      <td>Chicago Bulls</td>\n",
       "      <td>3.28</td>\n",
       "    </tr>\n",
       "    <tr>\n",
       "      <th>15</th>\n",
       "      <td>Cleveland Cavaliers</td>\n",
       "      <td>3.28</td>\n",
       "    </tr>\n",
       "    <tr>\n",
       "      <th>16</th>\n",
       "      <td>Boston Celtics</td>\n",
       "      <td>3.28</td>\n",
       "    </tr>\n",
       "    <tr>\n",
       "      <th>17</th>\n",
       "      <td>Indiana Pacers</td>\n",
       "      <td>3.28</td>\n",
       "    </tr>\n",
       "    <tr>\n",
       "      <th>18</th>\n",
       "      <td>Houston Rockets</td>\n",
       "      <td>3.28</td>\n",
       "    </tr>\n",
       "    <tr>\n",
       "      <th>19</th>\n",
       "      <td>San Antonio Spurs</td>\n",
       "      <td>3.28</td>\n",
       "    </tr>\n",
       "    <tr>\n",
       "      <th>20</th>\n",
       "      <td>Atlanta Hawks</td>\n",
       "      <td>3.28</td>\n",
       "    </tr>\n",
       "    <tr>\n",
       "      <th>21</th>\n",
       "      <td>Charlotte Hornets</td>\n",
       "      <td>3.28</td>\n",
       "    </tr>\n",
       "    <tr>\n",
       "      <th>22</th>\n",
       "      <td>Miami Heat</td>\n",
       "      <td>3.28</td>\n",
       "    </tr>\n",
       "    <tr>\n",
       "      <th>23</th>\n",
       "      <td>Washington Wizards</td>\n",
       "      <td>3.28</td>\n",
       "    </tr>\n",
       "    <tr>\n",
       "      <th>24</th>\n",
       "      <td>Denver Nuggets</td>\n",
       "      <td>3.28</td>\n",
       "    </tr>\n",
       "    <tr>\n",
       "      <th>25</th>\n",
       "      <td>Oklahoma City Thunder</td>\n",
       "      <td>3.28</td>\n",
       "    </tr>\n",
       "    <tr>\n",
       "      <th>26</th>\n",
       "      <td>Portland Trail Blazers</td>\n",
       "      <td>3.28</td>\n",
       "    </tr>\n",
       "    <tr>\n",
       "      <th>27</th>\n",
       "      <td>Brooklyn Nets</td>\n",
       "      <td>3.28</td>\n",
       "    </tr>\n",
       "    <tr>\n",
       "      <th>28</th>\n",
       "      <td>Orlando Magic</td>\n",
       "      <td>3.06</td>\n",
       "    </tr>\n",
       "    <tr>\n",
       "      <th>29</th>\n",
       "      <td>Minnesota Timberwolves</td>\n",
       "      <td>3.06</td>\n",
       "    </tr>\n",
       "  </tbody>\n",
       "</table>\n",
       "</div>"
      ],
      "text/plain": [
       "                      Team  count\n",
       "0     New Orleans Pelicans   4.15\n",
       "1        Memphis Grizzlies   3.93\n",
       "2                Utah Jazz   3.49\n",
       "3          New York Knicks   3.49\n",
       "4          Milwaukee Bucks   3.49\n",
       "5          Detroit Pistons   3.28\n",
       "6         Dallas Mavericks   3.28\n",
       "7       Philadelphia 76ers   3.28\n",
       "8          Toronto Raptors   3.28\n",
       "9    Golden State Warriors   3.28\n",
       "10    Los Angeles Clippers   3.28\n",
       "11      Los Angeles Lakers   3.28\n",
       "12            Phoenix Suns   3.28\n",
       "13        Sacramento Kings   3.28\n",
       "14           Chicago Bulls   3.28\n",
       "15     Cleveland Cavaliers   3.28\n",
       "16          Boston Celtics   3.28\n",
       "17          Indiana Pacers   3.28\n",
       "18         Houston Rockets   3.28\n",
       "19       San Antonio Spurs   3.28\n",
       "20           Atlanta Hawks   3.28\n",
       "21       Charlotte Hornets   3.28\n",
       "22              Miami Heat   3.28\n",
       "23      Washington Wizards   3.28\n",
       "24          Denver Nuggets   3.28\n",
       "25   Oklahoma City Thunder   3.28\n",
       "26  Portland Trail Blazers   3.28\n",
       "27           Brooklyn Nets   3.28\n",
       "28           Orlando Magic   3.06\n",
       "29  Minnesota Timberwolves   3.06"
      ]
     },
     "execution_count": 19,
     "metadata": {},
     "output_type": "execute_result"
    }
   ],
   "source": [
    "bar_chart_data=pd.DataFrame(employees_teamwise_percent).reset_index()\n",
    "bar_chart_data"
   ]
  },
  {
   "cell_type": "code",
   "execution_count": 20,
   "id": "3c030b4e-6c97-4d80-9486-755b108f4728",
   "metadata": {},
   "outputs": [
    {
     "data": {
      "image/png": "[encoded data removed]",
      "text/plain": [
       "<Figure size 640x480 with 1 Axes>"
      ]
     },
     "metadata": {},
     "output_type": "display_data"
    }
   ],
   "source": [
    "sns.barplot(bar_chart_data,x=\"Team\",y=\"count\",color=\"b\")\n",
    "plt.title(\"Employees Representation teamwise\")\n",
    "plt.xlabel(\"Teams\")\n",
    "plt.ylabel(\"Employee percentwise\")\n",
    "plt.xticks(rotation=90)\n",
    "plt.grid(True)\n",
    "plt.show()"
   ]
  },
  {
   "cell_type": "markdown",
   "id": "387e84ce-6b35-49a7-9dcb-6e76356c2bee",
   "metadata": {},
   "source": [
    "##### **INSIGHT**:\n",
    "##### From the data we can infer that there are 30 teams and among that Team \"New Orleans Pelicans\" has the most number of employees which is 4.15% out of a total of 458 employees.Most of the teams have same employee ratio percentage which is 3.28%.\n",
    "##### Team \"Minnesota Timberwolves\" and \"Orlando Magic\" has the least team members which is 3.06%."
   ]
  },
  {
   "cell_type": "markdown",
   "id": "2238bbbe-0d39-48be-acfb-8c468d8fc00c",
   "metadata": {},
   "source": [
    "#### 2. Segregate employees based on their positions within the company. "
   ]
  },
  {
   "cell_type": "code",
   "execution_count": 21,
   "id": "40b1cdb1-f983-40fe-9ea1-b2fce7ba2823",
   "metadata": {},
   "outputs": [
    {
     "data": {
      "text/html": [
       "<div>\n",
       "<style scoped>\n",
       "    .dataframe tbody tr th:only-of-type {\n",
       "        vertical-align: middle;\n",
       "    }\n",
       "\n",
       "    .dataframe tbody tr th {\n",
       "        vertical-align: top;\n",
       "    }\n",
       "\n",
       "    .dataframe thead th {\n",
       "        text-align: right;\n",
       "    }\n",
       "</style>\n",
       "<table border=\"1\" class=\"dataframe\">\n",
       "  <thead>\n",
       "    <tr style=\"text-align: right;\">\n",
       "      <th></th>\n",
       "      <th>Position</th>\n",
       "      <th>count</th>\n",
       "    </tr>\n",
       "  </thead>\n",
       "  <tbody>\n",
       "    <tr>\n",
       "      <th>0</th>\n",
       "      <td>SG</td>\n",
       "      <td>102</td>\n",
       "    </tr>\n",
       "    <tr>\n",
       "      <th>1</th>\n",
       "      <td>PF</td>\n",
       "      <td>100</td>\n",
       "    </tr>\n",
       "    <tr>\n",
       "      <th>2</th>\n",
       "      <td>PG</td>\n",
       "      <td>92</td>\n",
       "    </tr>\n",
       "    <tr>\n",
       "      <th>3</th>\n",
       "      <td>SF</td>\n",
       "      <td>85</td>\n",
       "    </tr>\n",
       "    <tr>\n",
       "      <th>4</th>\n",
       "      <td>C</td>\n",
       "      <td>79</td>\n",
       "    </tr>\n",
       "  </tbody>\n",
       "</table>\n",
       "</div>"
      ],
      "text/plain": [
       "  Position  count\n",
       "0       SG    102\n",
       "1       PF    100\n",
       "2       PG     92\n",
       "3       SF     85\n",
       "4        C     79"
      ]
     },
     "execution_count": 21,
     "metadata": {},
     "output_type": "execute_result"
    }
   ],
   "source": [
    "employees_positionwise=pd.DataFrame(data['Position'].value_counts()).reset_index()\n",
    "employees_positionwise"
   ]
  },
  {
   "cell_type": "code",
   "execution_count": 22,
   "id": "6f2e3bd7-dbfe-4caf-9fac-c95a6c05421c",
   "metadata": {},
   "outputs": [
    {
     "data": {
      "image/png": "[encoded data removed]",
      "text/plain": [
       "<Figure size 640x480 with 1 Axes>"
      ]
     },
     "metadata": {},
     "output_type": "display_data"
    }
   ],
   "source": [
    "plt.pie(employees_positionwise['count'],labels=employees_positionwise['Position'],autopct='%1.1f%%')\n",
    "plt.title(\"Employees Positionwise\")\n",
    "plt.legend(title=\"Positions\",loc='upper right')\n",
    "plt.show()"
   ]
  },
  {
   "cell_type": "markdown",
   "id": "b2cf1bc9-7f85-4366-a0fe-532eaf395663",
   "metadata": {},
   "source": [
    "##### **INSIGHT**\n",
    "##### Out of 458 employees,22.3% which amounts to a count of 102 are in SG position whereas only 17.2 % are in C position.We can infer that alemployee ratio in each position is almost same and there is no much variability."
   ]
  },
  {
   "cell_type": "markdown",
   "id": "4714698d-c25c-4280-bd3f-1682b20c68f7",
   "metadata": {},
   "source": [
    "#### 3.Identify the predominant age group among employees."
   ]
  },
  {
   "cell_type": "code",
   "execution_count": 23,
   "id": "0bc50769-aaa7-4f32-ad8b-5de6728d9468",
   "metadata": {},
   "outputs": [],
   "source": [
    "hist_plot_data=pd.DataFrame(data['Age'])"
   ]
  },
  {
   "cell_type": "code",
   "execution_count": 24,
   "id": "f2c723de-04fa-4f20-8af2-46ca2e8c831a",
   "metadata": {},
   "outputs": [
    {
     "data": {
      "image/png": "[encoded data removed]",
      "text/plain": [
       "<Figure size 640x480 with 1 Axes>"
      ]
     },
     "metadata": {},
     "output_type": "display_data"
    }
   ],
   "source": [
    "sns.histplot(data=hist_plot_data,x='Age',bins=1,binwidth=1)\n",
    "plt.title(\"Prominent Age Group among the Employees\")\n",
    "plt.xlabel(\"Age Group\")\n",
    "plt.ylabel(\"Number of employees\")        \n",
    "plt.xticks(np.arange(15, 45, step=10),fontsize=10)\n",
    "plt.yticks(np.arange(0, 60, step=10),fontsize=10)\n",
    "plt.show()"
   ]
  },
  {
   "cell_type": "markdown",
   "id": "420ed045-26e2-4ce6-b2bc-73c18d9e931f",
   "metadata": {},
   "source": [
    "##### **INSIGHT**\n",
    "##### From the histogram, we can infer that most of employees belong to the age group between 25-30.After the age of 30,there is a significant decrease in the number of employees hired by the company."
   ]
  },
  {
   "cell_type": "markdown",
   "id": "66060b69-53e7-4bbe-bbae-f065cb31bd3a",
   "metadata": {},
   "source": [
    "#### 4. Discover which team and position have the highest salary expenditure"
   ]
  },
  {
   "cell_type": "code",
   "execution_count": 25,
   "id": "6c55b96c-0661-46e4-9261-b268f3346cf1",
   "metadata": {},
   "outputs": [
    {
     "data": {
      "text/html": [
       "<div>\n",
       "<style scoped>\n",
       "    .dataframe tbody tr th:only-of-type {\n",
       "        vertical-align: middle;\n",
       "    }\n",
       "\n",
       "    .dataframe tbody tr th {\n",
       "        vertical-align: top;\n",
       "    }\n",
       "\n",
       "    .dataframe thead th {\n",
       "        text-align: right;\n",
       "    }\n",
       "</style>\n",
       "<table border=\"1\" class=\"dataframe\">\n",
       "  <thead>\n",
       "    <tr style=\"text-align: right;\">\n",
       "      <th></th>\n",
       "      <th>Team</th>\n",
       "      <th>Position</th>\n",
       "      <th>Salary</th>\n",
       "    </tr>\n",
       "  </thead>\n",
       "  <tbody>\n",
       "    <tr>\n",
       "      <th>0</th>\n",
       "      <td>Los Angeles Lakers</td>\n",
       "      <td>SF</td>\n",
       "      <td>31866445.0</td>\n",
       "    </tr>\n",
       "    <tr>\n",
       "      <th>1</th>\n",
       "      <td>Miami Heat</td>\n",
       "      <td>PF</td>\n",
       "      <td>31538671.0</td>\n",
       "    </tr>\n",
       "    <tr>\n",
       "      <th>2</th>\n",
       "      <td>Houston Rockets</td>\n",
       "      <td>SG</td>\n",
       "      <td>28122883.0</td>\n",
       "    </tr>\n",
       "    <tr>\n",
       "      <th>3</th>\n",
       "      <td>Phoenix Suns</td>\n",
       "      <td>PG</td>\n",
       "      <td>28002998.0</td>\n",
       "    </tr>\n",
       "    <tr>\n",
       "      <th>4</th>\n",
       "      <td>Denver Nuggets</td>\n",
       "      <td>SF</td>\n",
       "      <td>27982771.0</td>\n",
       "    </tr>\n",
       "    <tr>\n",
       "      <th>...</th>\n",
       "      <td>...</td>\n",
       "      <td>...</td>\n",
       "      <td>...</td>\n",
       "    </tr>\n",
       "    <tr>\n",
       "      <th>144</th>\n",
       "      <td>Milwaukee Bucks</td>\n",
       "      <td>SF</td>\n",
       "      <td>3104287.0</td>\n",
       "    </tr>\n",
       "    <tr>\n",
       "      <th>145</th>\n",
       "      <td>Philadelphia 76ers</td>\n",
       "      <td>SF</td>\n",
       "      <td>1845059.0</td>\n",
       "    </tr>\n",
       "    <tr>\n",
       "      <th>146</th>\n",
       "      <td>Sacramento Kings</td>\n",
       "      <td>PF</td>\n",
       "      <td>1370152.0</td>\n",
       "    </tr>\n",
       "    <tr>\n",
       "      <th>147</th>\n",
       "      <td>Miami Heat</td>\n",
       "      <td>C</td>\n",
       "      <td>981348.0</td>\n",
       "    </tr>\n",
       "    <tr>\n",
       "      <th>148</th>\n",
       "      <td>Orlando Magic</td>\n",
       "      <td>SF</td>\n",
       "      <td>845059.0</td>\n",
       "    </tr>\n",
       "  </tbody>\n",
       "</table>\n",
       "<p>149 rows × 3 columns</p>\n",
       "</div>"
      ],
      "text/plain": [
       "                   Team Position      Salary\n",
       "0    Los Angeles Lakers       SF  31866445.0\n",
       "1            Miami Heat       PF  31538671.0\n",
       "2       Houston Rockets       SG  28122883.0\n",
       "3          Phoenix Suns       PG  28002998.0\n",
       "4        Denver Nuggets       SF  27982771.0\n",
       "..                  ...      ...         ...\n",
       "144     Milwaukee Bucks       SF   3104287.0\n",
       "145  Philadelphia 76ers       SF   1845059.0\n",
       "146    Sacramento Kings       PF   1370152.0\n",
       "147          Miami Heat        C    981348.0\n",
       "148       Orlando Magic       SF    845059.0\n",
       "\n",
       "[149 rows x 3 columns]"
      ]
     },
     "execution_count": 25,
     "metadata": {},
     "output_type": "execute_result"
    }
   ],
   "source": [
    "salary_expenditure_teamwise=data.groupby(['Team','Position'])['Salary'].sum().sort_values(ascending=False).reset_index()\n",
    "salary_expenditure_teamwise"
   ]
  },
  {
   "cell_type": "code",
   "execution_count": 26,
   "id": "4686ffea-d8fa-4921-981a-47b8cbd82d88",
   "metadata": {},
   "outputs": [
    {
     "data": {
      "text/html": [
       "<div>\n",
       "<style scoped>\n",
       "    .dataframe tbody tr th:only-of-type {\n",
       "        vertical-align: middle;\n",
       "    }\n",
       "\n",
       "    .dataframe tbody tr th {\n",
       "        vertical-align: top;\n",
       "    }\n",
       "\n",
       "    .dataframe thead th {\n",
       "        text-align: right;\n",
       "    }\n",
       "</style>\n",
       "<table border=\"1\" class=\"dataframe\">\n",
       "  <thead>\n",
       "    <tr style=\"text-align: right;\">\n",
       "      <th></th>\n",
       "      <th>Team</th>\n",
       "      <th>Position</th>\n",
       "      <th>Salary</th>\n",
       "    </tr>\n",
       "  </thead>\n",
       "  <tbody>\n",
       "    <tr>\n",
       "      <th>0</th>\n",
       "      <td>Los Angeles Lakers</td>\n",
       "      <td>SF</td>\n",
       "      <td>31866445.0</td>\n",
       "    </tr>\n",
       "  </tbody>\n",
       "</table>\n",
       "</div>"
      ],
      "text/plain": [
       "                 Team Position      Salary\n",
       "0  Los Angeles Lakers       SF  31866445.0"
      ]
     },
     "execution_count": 26,
     "metadata": {},
     "output_type": "execute_result"
    }
   ],
   "source": [
    "salary_expenditure_teamwise.head(1)"
   ]
  },
  {
   "cell_type": "code",
   "execution_count": 27,
   "id": "8a06909b-0cdd-4076-99bb-6e43e9922fe3",
   "metadata": {},
   "outputs": [
    {
     "data": {
      "text/html": [
       "<div>\n",
       "<style scoped>\n",
       "    .dataframe tbody tr th:only-of-type {\n",
       "        vertical-align: middle;\n",
       "    }\n",
       "\n",
       "    .dataframe tbody tr th {\n",
       "        vertical-align: top;\n",
       "    }\n",
       "\n",
       "    .dataframe thead th {\n",
       "        text-align: right;\n",
       "    }\n",
       "</style>\n",
       "<table border=\"1\" class=\"dataframe\">\n",
       "  <thead>\n",
       "    <tr style=\"text-align: right;\">\n",
       "      <th></th>\n",
       "      <th>Team</th>\n",
       "      <th>Salary</th>\n",
       "    </tr>\n",
       "  </thead>\n",
       "  <tbody>\n",
       "    <tr>\n",
       "      <th>0</th>\n",
       "      <td>Cleveland Cavaliers</td>\n",
       "      <td>109824875.0</td>\n",
       "    </tr>\n",
       "    <tr>\n",
       "      <th>1</th>\n",
       "      <td>Los Angeles Clippers</td>\n",
       "      <td>94854640.0</td>\n",
       "    </tr>\n",
       "    <tr>\n",
       "      <th>2</th>\n",
       "      <td>Oklahoma City Thunder</td>\n",
       "      <td>93765298.0</td>\n",
       "    </tr>\n",
       "    <tr>\n",
       "      <th>3</th>\n",
       "      <td>Golden State Warriors</td>\n",
       "      <td>88868997.0</td>\n",
       "    </tr>\n",
       "    <tr>\n",
       "      <th>4</th>\n",
       "      <td>Miami Heat</td>\n",
       "      <td>88188045.0</td>\n",
       "    </tr>\n",
       "  </tbody>\n",
       "</table>\n",
       "</div>"
      ],
      "text/plain": [
       "                    Team       Salary\n",
       "0    Cleveland Cavaliers  109824875.0\n",
       "1   Los Angeles Clippers   94854640.0\n",
       "2  Oklahoma City Thunder   93765298.0\n",
       "3  Golden State Warriors   88868997.0\n",
       "4             Miami Heat   88188045.0"
      ]
     },
     "execution_count": 27,
     "metadata": {},
     "output_type": "execute_result"
    }
   ],
   "source": [
    "data.groupby(['Team'])['Salary'].sum().sort_values(ascending=False).reset_index().head(5)\n"
   ]
  },
  {
   "cell_type": "code",
   "execution_count": 28,
   "id": "6879f757-702f-41f4-ae6e-76b5c40eb299",
   "metadata": {},
   "outputs": [
    {
     "data": {
      "text/html": [
       "<div>\n",
       "<style scoped>\n",
       "    .dataframe tbody tr th:only-of-type {\n",
       "        vertical-align: middle;\n",
       "    }\n",
       "\n",
       "    .dataframe tbody tr th {\n",
       "        vertical-align: top;\n",
       "    }\n",
       "\n",
       "    .dataframe thead th {\n",
       "        text-align: right;\n",
       "    }\n",
       "</style>\n",
       "<table border=\"1\" class=\"dataframe\">\n",
       "  <thead>\n",
       "    <tr style=\"text-align: right;\">\n",
       "      <th></th>\n",
       "      <th>Position</th>\n",
       "      <th>Salary</th>\n",
       "    </tr>\n",
       "  </thead>\n",
       "  <tbody>\n",
       "    <tr>\n",
       "      <th>0</th>\n",
       "      <td>C</td>\n",
       "      <td>466377332.0</td>\n",
       "    </tr>\n",
       "    <tr>\n",
       "      <th>1</th>\n",
       "      <td>PG</td>\n",
       "      <td>458193715.0</td>\n",
       "    </tr>\n",
       "    <tr>\n",
       "      <th>2</th>\n",
       "      <td>PF</td>\n",
       "      <td>451069408.0</td>\n",
       "    </tr>\n",
       "    <tr>\n",
       "      <th>3</th>\n",
       "      <td>SF</td>\n",
       "      <td>410857162.0</td>\n",
       "    </tr>\n",
       "    <tr>\n",
       "      <th>4</th>\n",
       "      <td>SG</td>\n",
       "      <td>405484816.0</td>\n",
       "    </tr>\n",
       "  </tbody>\n",
       "</table>\n",
       "</div>"
      ],
      "text/plain": [
       "  Position       Salary\n",
       "0        C  466377332.0\n",
       "1       PG  458193715.0\n",
       "2       PF  451069408.0\n",
       "3       SF  410857162.0\n",
       "4       SG  405484816.0"
      ]
     },
     "execution_count": 28,
     "metadata": {},
     "output_type": "execute_result"
    }
   ],
   "source": [
    "data.groupby(['Position'])['Salary'].sum().sort_values(ascending=False).reset_index().head(5)"
   ]
  },
  {
   "cell_type": "code",
   "execution_count": 49,
   "id": "f09016bd-5015-4a7f-a28b-b04627a8b724",
   "metadata": {},
   "outputs": [
    {
     "data": {
      "image/png": "[encoded data removed]",
      "text/plain": [
       "<Figure size 640x480 with 1 Axes>"
      ]
     },
     "metadata": {},
     "output_type": "display_data"
    }
   ],
   "source": [
    "sns.barplot(salary_expenditure_teamwise.head(5),x=\"Team\",y=\"Salary\",hue=\"Position\")\n",
    "plt.title(\"Top 5 in Salary Expenditure\")\n",
    "plt.xlabel(\"Teams\")\n",
    "plt.ylabel(\"Salary\")\n",
    "plt.xticks(rotation=45)\n",
    "plt.grid(True)\n",
    "plt.show()"
   ]
  },
  {
   "cell_type": "markdown",
   "id": "eca767e6-3d8c-490f-8ae7-e222071c4c9a",
   "metadata": {},
   "source": [
    "##### **INSIGHT**\n",
    "##### It is clear that SF position from the team \"Los Angeles Lakers\" has the highest salary expenditure followed by the PF position from team \"Miami Heat\".Among the top 5 , we can see SF postion from team \"Denver Nuggets\" in 5th position.This is the inference when we anlayse the salary expenditure teamwise put in together with position.\n",
    "##### But, when we analyse the salary expenditure separately for Position and team, we can see that position 'C' has the highest salary expenditure and teamwise team 'Cleveland Cavaliers' has the highest salary expenditure."
   ]
  },
  {
   "cell_type": "markdown",
   "id": "6a67d871-b53f-4242-b314-74b901873c45",
   "metadata": {},
   "source": [
    "#### 5. Investigate if there's any correlation between age and salary, and represent it visually."
   ]
  },
  {
   "cell_type": "code",
   "execution_count": 29,
   "id": "b0b890d0-99f1-41ae-878d-cc9b2bceafd8",
   "metadata": {},
   "outputs": [],
   "source": [
    "scatter_plot_data=data[['Age','Salary']]"
   ]
  },
  {
   "cell_type": "code",
   "execution_count": 30,
   "id": "a674cc1d-8646-4a25-87e9-28bc21f1aac3",
   "metadata": {},
   "outputs": [
    {
     "data": {
      "image/png": "[encoded data removed]",
      "text/plain": [
       "<Figure size 640x480 with 1 Axes>"
      ]
     },
     "metadata": {},
     "output_type": "display_data"
    }
   ],
   "source": [
    "sns.scatterplot(data=scatter_plot_data,x='Age',y='Salary',markers=\"o\",color='m')\n",
    "plt.title(\"Correlation between Age and Salary\")\n",
    "plt.xlabel(\"Age\")\n",
    "plt.ylabel(\"Salary\")\n",
    "plt.grid(True)\n",
    "plt.show()\n"
   ]
  },
  {
   "cell_type": "markdown",
   "id": "7f7a0079-bc8b-47fe-88eb-f3b2bf3f287a",
   "metadata": {},
   "source": [
    "##### **INSIGHT**\n",
    "##### There does not appear a strong correlation between the Age and Salary ,although salary seems to slightly increase with the age for some individuals.This trend is inconsistent.\n",
    "##### Among the same age group(30-35), there is high variability in the salaries of the employees implying that attributes other than age like job position,company and experience contribute to their high/low salaries.\n",
    "##### Most of the individuals draw salary below 10 M irrespective of their age."
   ]
  }
 ],
 "metadata": {
  "kernelspec": {
   "display_name": "Python 3 (ipykernel)",
   "language": "python",
   "name": "python3"
  },
  "language_info": {
   "codemirror_mode": {
    "name": "ipython",
    "version": 3
   },
   "file_extension": ".py",
   "mimetype": "text/x-python",
   "name": "python",
   "nbconvert_exporter": "python",
   "pygments_lexer": "ipython3",
   "version": "3.12.4"
  }
 },
 "nbformat": 4,
 "nbformat_minor": 5
}
